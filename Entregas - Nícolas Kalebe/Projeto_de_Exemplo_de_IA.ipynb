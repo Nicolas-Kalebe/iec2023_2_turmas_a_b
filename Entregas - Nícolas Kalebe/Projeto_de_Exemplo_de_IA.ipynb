{
  "nbformat": 4,
  "nbformat_minor": 0,
  "metadata": {
    "colab": {
      "provenance": [],
      "authorship_tag": "ABX9TyPh67wZeQKBlud2aP/hONob",
      "include_colab_link": true
    },
    "kernelspec": {
      "name": "python3",
      "display_name": "Python 3"
    },
    "language_info": {
      "name": "python"
    }
  },
  "cells": [
    {
      "cell_type": "markdown",
      "metadata": {
        "id": "view-in-github",
        "colab_type": "text"
      },
      "source": [
        "<a href=\"https://colab.research.google.com/github/Nicolas-Kalebe/iec2023_2_turmas_a_b/blob/main/Entregas%20-%20N%C3%ADcolas%20Kalebe/Projeto_de_Exemplo_de_IA.ipynb\" target=\"_parent\"><img src=\"https://colab.research.google.com/assets/colab-badge.svg\" alt=\"Open In Colab\"/></a>"
      ]
    },
    {
      "cell_type": "code",
      "execution_count": null,
      "metadata": {
        "id": "OYckBY8stY_F"
      },
      "outputs": [],
      "source": []
    }
  ]
}